{
 "cells": [
  {
   "attachments": {},
   "cell_type": "markdown",
   "metadata": {},
   "source": [
    "Project 1: What factors have contributed to the spread of COVID-19 in different regions of the world"
   ]
  },
  {
   "cell_type": "code",
   "execution_count": 1,
   "metadata": {},
   "outputs": [],
   "source": [
    "# Import packages\n",
    "import pandas as pd\n",
    "import numpy as np\n",
    "import matplotlib.pyplot as plt\n",
    "import scipy.stats as st\n",
    "import requests\n",
    "import json "
   ]
  },
  {
   "cell_type": "code",
   "execution_count": 2,
   "metadata": {},
   "outputs": [],
   "source": [
    "# Retrieve Datasets\n",
    "\n",
    "path_covid_country = r\"Dataset\\Covid\\country_wise_latest.csv\"\n",
    "path_covid_complete = r\"Dataset\\Covid\\covid_19_clean_complete.csv\"\n",
    "path_air_quality = r\"Dataset\\Air Quality\\World_cities_air_quality_and_water_pollution_2020.csv\"\n",
    "path_government_resp = r\"Dataset\\Government_response\\COVID_gov_complete_29_03.csv\"\n",
    "path_vaccination_cases = r\"Dataset\\Vaccination\\df_covid19_countries_cases.csv\"\n",
    "path_vaccination_rate = r\"Dataset\\Vaccination\\df_covid19_countries_vaccination.csv\"\n",
    "path_weather = r\"Dataset\\Weather\\training_data_with_weather_info_week_4.csv\"\n",
    "\n",
    "covid_country_df = pd.read_csv(path_covid_country)\n",
    "covid_complete_df = pd.read_csv(path_covid_complete)\n",
    "air_quality_df = pd.read_csv(path_air_quality)\n",
    "government_resp_df = pd.read_csv(path_government_resp)\n",
    "vaccination_cases_df = pd.read_csv(path_vaccination_cases)\n",
    "vaccination_rate_df = pd.read_csv(path_vaccination_rate)\n",
    "weather_df = pd.read_csv(path_weather)"
   ]
  },
  {
   "attachments": {},
   "cell_type": "markdown",
   "metadata": {},
   "source": [
    "Factor 1: Impact of climate on the spread of Covid-19 (Kevin Guillemette)"
   ]
  },
  {
   "cell_type": "code",
   "execution_count": null,
   "metadata": {},
   "outputs": [],
   "source": []
  },
  {
   "attachments": {},
   "cell_type": "markdown",
   "metadata": {},
   "source": [
    "Factor 2: Impact of Government Response on the spread of Covid-19 (Helena Fedorenko)"
   ]
  },
  {
   "cell_type": "code",
   "execution_count": null,
   "metadata": {},
   "outputs": [],
   "source": []
  },
  {
   "attachments": {},
   "cell_type": "markdown",
   "metadata": {},
   "source": [
    "Factor 3: Impact of Vaccination Rate on the spread of Covid-19 (Brecht Nys)"
   ]
  },
  {
   "cell_type": "code",
   "execution_count": 11,
   "metadata": {},
   "outputs": [
    {
     "data": {
      "text/html": [
       "<div>\n",
       "<style scoped>\n",
       "    .dataframe tbody tr th:only-of-type {\n",
       "        vertical-align: middle;\n",
       "    }\n",
       "\n",
       "    .dataframe tbody tr th {\n",
       "        vertical-align: top;\n",
       "    }\n",
       "\n",
       "    .dataframe thead th {\n",
       "        text-align: right;\n",
       "    }\n",
       "</style>\n",
       "<table border=\"1\" class=\"dataframe\">\n",
       "  <thead>\n",
       "    <tr style=\"text-align: right;\">\n",
       "      <th></th>\n",
       "      <th>location</th>\n",
       "      <th>date</th>\n",
       "      <th>total_deaths</th>\n",
       "      <th>new_deaths</th>\n",
       "      <th>reproduction_rate</th>\n",
       "      <th>people_vaccinated</th>\n",
       "      <th>people_fully_vaccinated</th>\n",
       "      <th>population</th>\n",
       "      <th>Vaccination Rate</th>\n",
       "      <th>Fully Vaccinated Rate</th>\n",
       "      <th>Death Rate</th>\n",
       "    </tr>\n",
       "  </thead>\n",
       "  <tbody>\n",
       "    <tr>\n",
       "      <th>0</th>\n",
       "      <td>Afghanistan</td>\n",
       "      <td>24/02/2020</td>\n",
       "      <td>0</td>\n",
       "      <td>0</td>\n",
       "      <td>0.0</td>\n",
       "      <td>0</td>\n",
       "      <td>0</td>\n",
       "      <td>41128772</td>\n",
       "      <td>0.0</td>\n",
       "      <td>0.0</td>\n",
       "      <td>0.0</td>\n",
       "    </tr>\n",
       "    <tr>\n",
       "      <th>1</th>\n",
       "      <td>Afghanistan</td>\n",
       "      <td>25/02/2020</td>\n",
       "      <td>0</td>\n",
       "      <td>0</td>\n",
       "      <td>0.0</td>\n",
       "      <td>0</td>\n",
       "      <td>0</td>\n",
       "      <td>41128772</td>\n",
       "      <td>0.0</td>\n",
       "      <td>0.0</td>\n",
       "      <td>0.0</td>\n",
       "    </tr>\n",
       "    <tr>\n",
       "      <th>2</th>\n",
       "      <td>Afghanistan</td>\n",
       "      <td>26/02/2020</td>\n",
       "      <td>0</td>\n",
       "      <td>0</td>\n",
       "      <td>0.0</td>\n",
       "      <td>0</td>\n",
       "      <td>0</td>\n",
       "      <td>41128772</td>\n",
       "      <td>0.0</td>\n",
       "      <td>0.0</td>\n",
       "      <td>0.0</td>\n",
       "    </tr>\n",
       "    <tr>\n",
       "      <th>3</th>\n",
       "      <td>Afghanistan</td>\n",
       "      <td>27/02/2020</td>\n",
       "      <td>0</td>\n",
       "      <td>0</td>\n",
       "      <td>0.0</td>\n",
       "      <td>0</td>\n",
       "      <td>0</td>\n",
       "      <td>41128772</td>\n",
       "      <td>0.0</td>\n",
       "      <td>0.0</td>\n",
       "      <td>0.0</td>\n",
       "    </tr>\n",
       "    <tr>\n",
       "      <th>4</th>\n",
       "      <td>Afghanistan</td>\n",
       "      <td>28/02/2020</td>\n",
       "      <td>0</td>\n",
       "      <td>0</td>\n",
       "      <td>0.0</td>\n",
       "      <td>0</td>\n",
       "      <td>0</td>\n",
       "      <td>41128772</td>\n",
       "      <td>0.0</td>\n",
       "      <td>0.0</td>\n",
       "      <td>0.0</td>\n",
       "    </tr>\n",
       "  </tbody>\n",
       "</table>\n",
       "</div>"
      ],
      "text/plain": [
       "      location        date  total_deaths  new_deaths  reproduction_rate  \\\n",
       "0  Afghanistan  24/02/2020             0           0                0.0   \n",
       "1  Afghanistan  25/02/2020             0           0                0.0   \n",
       "2  Afghanistan  26/02/2020             0           0                0.0   \n",
       "3  Afghanistan  27/02/2020             0           0                0.0   \n",
       "4  Afghanistan  28/02/2020             0           0                0.0   \n",
       "\n",
       "   people_vaccinated  people_fully_vaccinated  population  Vaccination Rate  \\\n",
       "0                  0                        0    41128772               0.0   \n",
       "1                  0                        0    41128772               0.0   \n",
       "2                  0                        0    41128772               0.0   \n",
       "3                  0                        0    41128772               0.0   \n",
       "4                  0                        0    41128772               0.0   \n",
       "\n",
       "   Fully Vaccinated Rate  Death Rate  \n",
       "0                    0.0         0.0  \n",
       "1                    0.0         0.0  \n",
       "2                    0.0         0.0  \n",
       "3                    0.0         0.0  \n",
       "4                    0.0         0.0  "
      ]
     },
     "execution_count": 11,
     "metadata": {},
     "output_type": "execute_result"
    }
   ],
   "source": [
    "# Merge two datasets\n",
    "\n",
    "vaccination_df = pd.merge(vaccination_cases_df, vaccination_rate_df,on=[\"location\", \"date\"])\n",
    "\n",
    "# Remove unnecessary columns\n",
    "\n",
    "vaccination_df = vaccination_df[[\"location\",\n",
    "                                 \"date\",\n",
    "                                 \"total_deaths\",\n",
    "                                 \"new_deaths\",\n",
    "                                 \"reproduction_rate\",\n",
    "                                 \"people_vaccinated\",\n",
    "                                 \"people_fully_vaccinated\",\n",
    "                                 \"population\"]]\n",
    "\n",
    "# Add necessary columns\n",
    "\n",
    "vaccination_rate = []\n",
    "fully_vaccination_rate = []\n",
    "death_rate = []\n",
    "\n",
    "for index, row in vaccination_df.iterrows():\n",
    "    current_population = row[\"population\"]\n",
    "    current_vaccinated = row[\"people_vaccinated\"]\n",
    "    current__fully_vaccinated = row[\"people_fully_vaccinated\"]\n",
    "    current_new_deaths = row[\"new_deaths\"]\n",
    "\n",
    "    vaccination_rate.append(current_vaccinated/current_population)\n",
    "    fully_vaccination_rate.append(current__fully_vaccinated/current_population)\n",
    "    death_rate.append(current_new_deaths/current_population)\n",
    "\n",
    "vaccination_df[\"Vaccination Rate\"] = vaccination_rate\n",
    "vaccination_df[\"Fully Vaccinated Rate\"] = fully_vaccination_rate\n",
    "vaccination_df[\"Death Rate\"] = death_rate\n",
    "\n",
    "# Show Dataframe\n",
    "\n",
    "vaccination_df.head()"
   ]
  },
  {
   "attachments": {},
   "cell_type": "markdown",
   "metadata": {},
   "source": [
    "- reproduction_rate\n",
    "    The R number is a way of rating coronavirus or any disease's ability to spread.\n",
    "    R is the number of people that one infected person will pass on a virus to, on average.\n",
    "    If the R value is higher than one, then the number of cases keeps increasing.\n",
    "- people_vaccinated: at least 1 vaccination\n",
    "- people_fully_vaccinate: all required vaccinations\n",
    "- vaccination_ratio: people_vaccinated / population\n"
   ]
  },
  {
   "attachments": {},
   "cell_type": "markdown",
   "metadata": {},
   "source": [
    "Factor 4: Impact of Air Pollution Rate on the spread of Covid-19 (Xing Ying Chen)"
   ]
  },
  {
   "cell_type": "code",
   "execution_count": null,
   "metadata": {},
   "outputs": [],
   "source": []
  }
 ],
 "metadata": {
  "kernelspec": {
   "display_name": "base",
   "language": "python",
   "name": "python3"
  },
  "language_info": {
   "codemirror_mode": {
    "name": "ipython",
    "version": 3
   },
   "file_extension": ".py",
   "mimetype": "text/x-python",
   "name": "python",
   "nbconvert_exporter": "python",
   "pygments_lexer": "ipython3",
   "version": "3.9.13"
  },
  "orig_nbformat": 4
 },
 "nbformat": 4,
 "nbformat_minor": 2
}
