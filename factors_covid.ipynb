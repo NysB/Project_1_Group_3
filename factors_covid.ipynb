{
 "cells": [
  {
   "attachments": {},
   "cell_type": "markdown",
   "metadata": {},
   "source": [
    "Project 1: What factors have contributed to the spread of COVID-19 in different regions of the world"
   ]
  },
  {
   "cell_type": "code",
   "execution_count": 1,
   "metadata": {},
   "outputs": [],
   "source": [
    "# Import packages\n",
    "import pandas as pd\n",
    "import numpy as np\n",
    "import matplotlib.pyplot as plt\n",
    "import scipy.stats as st\n",
    "import requests\n",
    "import json "
   ]
  },
  {
   "cell_type": "code",
   "execution_count": 3,
   "metadata": {},
   "outputs": [],
   "source": [
    "# Retrieve Datasets\n",
    "\n",
    "path_covid_country = r\"Dataset\\Covid\\country_wise_latest.csv\"\n",
    "path_covid_complete = r\"Dataset\\Covid\\covid_19_clean_complete.csv\"\n",
    "path_air_quality = r\"Dataset\\Air Quality\\World_cities_air_quality_and_water_pollution_2020.csv\"\n",
    "path_government_resp = r\"Dataset\\Government_response\\COVID_gov_complete_29_03.csv\"\n",
    "path_vaccination = r\"Dataset\\Vaccination\\country_vaccinations.csv\"\n",
    "path_weather = r\"Dataset\\Weather\\training_data_with_weather_info_week_4.csv\"\n",
    "\n",
    "covid_country_df = pd.read_csv(path_covid_country)\n",
    "covid_complete_df = pd.read_csv(path_covid_complete)\n",
    "air_quality_df = pd.read_csv(path_air_quality)\n",
    "government_resp_df = pd.read_csv(path_government_resp)\n",
    "vaccination_df = pd.read_csv(path_vaccination)\n",
    "weather_df = pd.read_csv(path_weather)"
   ]
  },
  {
   "attachments": {},
   "cell_type": "markdown",
   "metadata": {},
   "source": [
    "Factor 1: Impact of climate on the spread of Covid-19 (Kevin Guillemette)"
   ]
  },
  {
   "cell_type": "code",
   "execution_count": null,
   "metadata": {},
   "outputs": [],
   "source": []
  },
  {
   "attachments": {},
   "cell_type": "markdown",
   "metadata": {},
   "source": [
    "Factor 2: Impact of Government Response on the spread of Covid-19 (Helena Fedorenko)"
   ]
  },
  {
   "cell_type": "code",
   "execution_count": null,
   "metadata": {},
   "outputs": [],
   "source": []
  },
  {
   "attachments": {},
   "cell_type": "markdown",
   "metadata": {},
   "source": [
    "Factor 3: Impact of Vaccination Rate on the spread of Covid-19 (Brecht Nys)"
   ]
  },
  {
   "cell_type": "code",
   "execution_count": null,
   "metadata": {},
   "outputs": [],
   "source": []
  },
  {
   "attachments": {},
   "cell_type": "markdown",
   "metadata": {},
   "source": [
    "Factor 4: Impact of Air Pollution Rate on the spread of Covid-19 (Xing Ying Chen)"
   ]
  },
  {
   "cell_type": "code",
   "execution_count": null,
   "metadata": {},
   "outputs": [],
   "source": []
  }
 ],
 "metadata": {
  "kernelspec": {
   "display_name": "base",
   "language": "python",
   "name": "python3"
  },
  "language_info": {
   "codemirror_mode": {
    "name": "ipython",
    "version": 3
   },
   "file_extension": ".py",
   "mimetype": "text/x-python",
   "name": "python",
   "nbconvert_exporter": "python",
   "pygments_lexer": "ipython3",
   "version": "3.9.13"
  },
  "orig_nbformat": 4
 },
 "nbformat": 4,
 "nbformat_minor": 2
}
